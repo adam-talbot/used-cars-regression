{
 "cells": [
  {
   "cell_type": "code",
   "execution_count": 2,
   "id": "ee8f5796-bada-4f30-94e9-2d33151217b2",
   "metadata": {},
   "outputs": [],
   "source": [
    "import pandas as pd\n",
    "import numpy as np\n",
    "import matplotlib.pyplot as plt\n",
    "import seaborn as sns\n",
    "\n",
    "import warnings\n",
    "warnings.filterwarnings(\"ignore\")\n",
    "\n",
    "plt.rc('figure', figsize=(13, 6))\n",
    "plt.rc('font', size=13)"
   ]
  },
  {
   "cell_type": "code",
   "execution_count": 3,
   "id": "835a12b5-8cde-4787-b09c-c94b3134b687",
   "metadata": {
    "jupyter": {
     "source_hidden": true
    },
    "tags": []
   },
   "outputs": [
    {
     "name": "stdout",
     "output_type": "stream",
     "text": [
      "CPU times: user 1min 28s, sys: 1min 12s, total: 2min 40s\n",
      "Wall time: 4min 24s\n"
     ]
    }
   ],
   "source": [
    "%%time\n",
    "df = pd.read_csv('used_cars_data.csv')"
   ]
  },
  {
   "cell_type": "code",
   "execution_count": 4,
   "id": "43e355c3-0b26-4144-9ee0-f646aa930862",
   "metadata": {
    "jupyter": {
     "source_hidden": true
    },
    "tags": []
   },
   "outputs": [
    {
     "data": {
      "text/plain": [
       "(3000040, 66)"
      ]
     },
     "execution_count": 4,
     "metadata": {},
     "output_type": "execute_result"
    }
   ],
   "source": [
    "df.shape"
   ]
  },
  {
   "cell_type": "markdown",
   "id": "200e6337-f635-48a1-a7a1-0750987b1b7b",
   "metadata": {
    "jupyter": {
     "source_hidden": true
    },
    "tags": []
   },
   "source": [
    "---\n",
    "Maybe only keep cities with a lot of data in TX\n",
    "- San Antonio, \n",
    "- Houston\n",
    "- Dallas\n",
    "- Austin\n",
    "- El Paso?\n",
    "- Arlington (is this the Arlington in TX?)\n",
    "- Fort Worth"
   ]
  },
  {
   "cell_type": "code",
   "execution_count": 7,
   "id": "4eadb17b-d18a-4570-8f58-bdcde94bf721",
   "metadata": {
    "jupyter": {
     "source_hidden": true
    },
    "tags": []
   },
   "outputs": [],
   "source": [
    "df = df[(df.city == 'San Antonio') |\n",
    "        (df.city == 'Houston') |\n",
    "        (df.city == 'Dallas') |\n",
    "        (df.city == 'Austin') |\n",
    "        (df.city == 'El Paso') |\n",
    "        (df.city == 'Arlington') |\n",
    "        (df.city == 'Fort Worth')]"
   ]
  },
  {
   "cell_type": "code",
   "execution_count": 8,
   "id": "1bcfa403-e761-4040-b26e-5337fb065d3a",
   "metadata": {
    "jupyter": {
     "source_hidden": true
    },
    "tags": []
   },
   "outputs": [
    {
     "data": {
      "text/plain": [
       "(122842, 66)"
      ]
     },
     "execution_count": 8,
     "metadata": {},
     "output_type": "execute_result"
    }
   ],
   "source": [
    "df.shape"
   ]
  },
  {
   "cell_type": "markdown",
   "id": "20316257-7dd8-4e74-ad79-4205461739cb",
   "metadata": {
    "jupyter": {
     "source_hidden": true
    },
    "tags": []
   },
   "source": [
    "---\n",
    "Export .csv here to do rest of work with"
   ]
  },
  {
   "cell_type": "code",
   "execution_count": 9,
   "id": "f0870b79-912e-4ee9-838f-0e455dbb69d3",
   "metadata": {
    "jupyter": {
     "source_hidden": true
    },
    "tags": []
   },
   "outputs": [],
   "source": [
    "df.to_csv('texas_car_data.csv')"
   ]
  },
  {
   "cell_type": "markdown",
   "id": "398c28e6-678c-42a7-86da-f6cfe88b7887",
   "metadata": {},
   "source": [
    "---"
   ]
  },
  {
   "cell_type": "code",
   "execution_count": 38,
   "id": "befb639f-2e1e-48d8-a8e9-2b19165b942b",
   "metadata": {},
   "outputs": [
    {
     "name": "stdout",
     "output_type": "stream",
     "text": [
      "CPU times: user 3.28 s, sys: 539 ms, total: 3.82 s\n",
      "Wall time: 3.91 s\n"
     ]
    }
   ],
   "source": [
    "%%time\n",
    "df = pd.read_csv('texas_car_data.csv')"
   ]
  },
  {
   "cell_type": "code",
   "execution_count": 39,
   "id": "ea0faef5-df96-459b-8cc8-8bf36a002735",
   "metadata": {},
   "outputs": [
    {
     "data": {
      "text/plain": [
       "0"
      ]
     },
     "execution_count": 39,
     "metadata": {},
     "output_type": "execute_result"
    }
   ],
   "source": [
    "# just curious to see if this is even really necessary. How many duplicates even are there?\n",
    "df.duplicated().sum()"
   ]
  },
  {
   "cell_type": "code",
   "execution_count": 40,
   "id": "35b268c5-b3b5-4270-acc3-d0ea5c626c2d",
   "metadata": {},
   "outputs": [
    {
     "name": "stdout",
     "output_type": "stream",
     "text": [
      "CPU times: user 561 ms, sys: 62.7 ms, total: 624 ms\n",
      "Wall time: 624 ms\n"
     ]
    }
   ],
   "source": [
    "%%time\n",
    "df = df.drop_duplicates()"
   ]
  },
  {
   "cell_type": "code",
   "execution_count": 41,
   "id": "8132472e-1461-49cf-944c-3b0f8ea29f20",
   "metadata": {},
   "outputs": [
    {
     "data": {
      "text/plain": [
       "(122842, 67)"
      ]
     },
     "execution_count": 41,
     "metadata": {},
     "output_type": "execute_result"
    }
   ],
   "source": [
    "df.shape"
   ]
  },
  {
   "cell_type": "markdown",
   "id": "fec2a2ad-9818-4799-9234-a77e40fa8554",
   "metadata": {},
   "source": [
    "---"
   ]
  },
  {
   "cell_type": "code",
   "execution_count": 42,
   "id": "7a1768fb-ff65-4329-aa05-33dbcd63000b",
   "metadata": {},
   "outputs": [],
   "source": [
    "def nulls_by_col(df):\n",
    "    '''\n",
    "    Takes in df and shows count of how many rows are null and percentage of total rows that are null\n",
    "    '''\n",
    "    num_missing = df.isnull().sum()\n",
    "    rows = df.shape[0]\n",
    "    prcnt_miss = round(num_missing / rows * 100, 2)\n",
    "    cols_missing = pd.DataFrame({'num_rows_missing': num_missing, 'percent_rows_missing': prcnt_miss})\n",
    "    return cols_missing"
   ]
  },
  {
   "cell_type": "code",
   "execution_count": 43,
   "id": "3f465c3b-b150-4f19-aa65-8d0430e08c39",
   "metadata": {},
   "outputs": [],
   "source": [
    "nulls_cols = nulls_by_col(df)"
   ]
  },
  {
   "cell_type": "code",
   "execution_count": 44,
   "id": "fd218fc0-8999-40d7-a3b8-2f98ee22ebe2",
   "metadata": {},
   "outputs": [
    {
     "data": {
      "text/html": [
       "<div>\n",
       "<style scoped>\n",
       "    .dataframe tbody tr th:only-of-type {\n",
       "        vertical-align: middle;\n",
       "    }\n",
       "\n",
       "    .dataframe tbody tr th {\n",
       "        vertical-align: top;\n",
       "    }\n",
       "\n",
       "    .dataframe thead th {\n",
       "        text-align: right;\n",
       "    }\n",
       "</style>\n",
       "<table border=\"1\" class=\"dataframe\">\n",
       "  <thead>\n",
       "    <tr style=\"text-align: right;\">\n",
       "      <th></th>\n",
       "      <th>num_rows_missing</th>\n",
       "      <th>percent_rows_missing</th>\n",
       "    </tr>\n",
       "  </thead>\n",
       "  <tbody>\n",
       "    <tr>\n",
       "      <th>bed</th>\n",
       "      <td>121639</td>\n",
       "      <td>99.02</td>\n",
       "    </tr>\n",
       "    <tr>\n",
       "      <th>bed_height</th>\n",
       "      <td>104915</td>\n",
       "      <td>85.41</td>\n",
       "    </tr>\n",
       "    <tr>\n",
       "      <th>bed_length</th>\n",
       "      <td>104915</td>\n",
       "      <td>85.41</td>\n",
       "    </tr>\n",
       "    <tr>\n",
       "      <th>cabin</th>\n",
       "      <td>120703</td>\n",
       "      <td>98.26</td>\n",
       "    </tr>\n",
       "    <tr>\n",
       "      <th>combine_fuel_economy</th>\n",
       "      <td>122842</td>\n",
       "      <td>100.00</td>\n",
       "    </tr>\n",
       "    <tr>\n",
       "      <th>fleet</th>\n",
       "      <td>62167</td>\n",
       "      <td>50.61</td>\n",
       "    </tr>\n",
       "    <tr>\n",
       "      <th>frame_damaged</th>\n",
       "      <td>62167</td>\n",
       "      <td>50.61</td>\n",
       "    </tr>\n",
       "    <tr>\n",
       "      <th>has_accidents</th>\n",
       "      <td>62167</td>\n",
       "      <td>50.61</td>\n",
       "    </tr>\n",
       "    <tr>\n",
       "      <th>isCab</th>\n",
       "      <td>62167</td>\n",
       "      <td>50.61</td>\n",
       "    </tr>\n",
       "    <tr>\n",
       "      <th>is_certified</th>\n",
       "      <td>122842</td>\n",
       "      <td>100.00</td>\n",
       "    </tr>\n",
       "    <tr>\n",
       "      <th>is_cpo</th>\n",
       "      <td>116905</td>\n",
       "      <td>95.17</td>\n",
       "    </tr>\n",
       "    <tr>\n",
       "      <th>is_oemcpo</th>\n",
       "      <td>118377</td>\n",
       "      <td>96.37</td>\n",
       "    </tr>\n",
       "    <tr>\n",
       "      <th>owner_count</th>\n",
       "      <td>65454</td>\n",
       "      <td>53.28</td>\n",
       "    </tr>\n",
       "    <tr>\n",
       "      <th>salvage</th>\n",
       "      <td>62167</td>\n",
       "      <td>50.61</td>\n",
       "    </tr>\n",
       "    <tr>\n",
       "      <th>theft_title</th>\n",
       "      <td>62167</td>\n",
       "      <td>50.61</td>\n",
       "    </tr>\n",
       "    <tr>\n",
       "      <th>vehicle_damage_category</th>\n",
       "      <td>122842</td>\n",
       "      <td>100.00</td>\n",
       "    </tr>\n",
       "  </tbody>\n",
       "</table>\n",
       "</div>"
      ],
      "text/plain": [
       "                         num_rows_missing  percent_rows_missing\n",
       "bed                                121639                 99.02\n",
       "bed_height                         104915                 85.41\n",
       "bed_length                         104915                 85.41\n",
       "cabin                              120703                 98.26\n",
       "combine_fuel_economy               122842                100.00\n",
       "fleet                               62167                 50.61\n",
       "frame_damaged                       62167                 50.61\n",
       "has_accidents                       62167                 50.61\n",
       "isCab                               62167                 50.61\n",
       "is_certified                       122842                100.00\n",
       "is_cpo                             116905                 95.17\n",
       "is_oemcpo                          118377                 96.37\n",
       "owner_count                         65454                 53.28\n",
       "salvage                             62167                 50.61\n",
       "theft_title                         62167                 50.61\n",
       "vehicle_damage_category            122842                100.00"
      ]
     },
     "execution_count": 44,
     "metadata": {},
     "output_type": "execute_result"
    }
   ],
   "source": [
    "nulls_cols[nulls_cols.percent_rows_missing > 50]"
   ]
  },
  {
   "cell_type": "code",
   "execution_count": 45,
   "id": "c23838eb-c79c-4a5a-8aa1-f528d83880ac",
   "metadata": {},
   "outputs": [
    {
     "data": {
      "text/plain": [
       "(16, 2)"
      ]
     },
     "execution_count": 45,
     "metadata": {},
     "output_type": "execute_result"
    }
   ],
   "source": [
    "nulls_cols[nulls_cols.percent_rows_missing > 50].shape"
   ]
  },
  {
   "cell_type": "markdown",
   "id": "ea10dc75-3b64-4852-a839-cd6a8e83cf5b",
   "metadata": {},
   "source": [
    "**All of these columns will be dropped**"
   ]
  },
  {
   "cell_type": "code",
   "execution_count": 46,
   "id": "6fd3efec-6e81-47b8-a2a1-5820f4af88bf",
   "metadata": {},
   "outputs": [],
   "source": [
    "def nulls_by_row(df):\n",
    "    '''\n",
    "    Takes in df and shows count of how many columns are null and percentage of total columns that are null and value count of each unique combo\n",
    "    '''\n",
    "    num_missing = df.isnull().sum(axis=1)\n",
    "    prcnt_miss = round(num_missing / df.shape[1] * 100, 2)\n",
    "    rows_missing = pd.DataFrame({'num_cols_missing': num_missing, 'percent_cols_missing': prcnt_miss})\\\n",
    "    .reset_index()\\\n",
    "    .groupby(['num_cols_missing', 'percent_cols_missing']).count()\\\n",
    "    .rename(columns={'index': 'num_rows'}).reset_index()\n",
    "    return rows_missing"
   ]
  },
  {
   "cell_type": "code",
   "execution_count": 47,
   "id": "8f24f573-bea7-4325-ab08-14b8bff805a6",
   "metadata": {},
   "outputs": [],
   "source": [
    "nulls_rows = nulls_by_row(df)"
   ]
  },
  {
   "cell_type": "code",
   "execution_count": 48,
   "id": "12047025-4ab2-40d0-adff-1bd7112d9d05",
   "metadata": {},
   "outputs": [
    {
     "data": {
      "text/html": [
       "<div>\n",
       "<style scoped>\n",
       "    .dataframe tbody tr th:only-of-type {\n",
       "        vertical-align: middle;\n",
       "    }\n",
       "\n",
       "    .dataframe tbody tr th {\n",
       "        vertical-align: top;\n",
       "    }\n",
       "\n",
       "    .dataframe thead th {\n",
       "        text-align: right;\n",
       "    }\n",
       "</style>\n",
       "<table border=\"1\" class=\"dataframe\">\n",
       "  <thead>\n",
       "    <tr style=\"text-align: right;\">\n",
       "      <th></th>\n",
       "      <th>num_cols_missing</th>\n",
       "      <th>percent_cols_missing</th>\n",
       "      <th>num_rows</th>\n",
       "    </tr>\n",
       "  </thead>\n",
       "  <tbody>\n",
       "    <tr>\n",
       "      <th>30</th>\n",
       "      <td>34</td>\n",
       "      <td>50.75</td>\n",
       "      <td>1131</td>\n",
       "    </tr>\n",
       "    <tr>\n",
       "      <th>31</th>\n",
       "      <td>35</td>\n",
       "      <td>52.24</td>\n",
       "      <td>668</td>\n",
       "    </tr>\n",
       "    <tr>\n",
       "      <th>32</th>\n",
       "      <td>36</td>\n",
       "      <td>53.73</td>\n",
       "      <td>266</td>\n",
       "    </tr>\n",
       "    <tr>\n",
       "      <th>33</th>\n",
       "      <td>37</td>\n",
       "      <td>55.22</td>\n",
       "      <td>322</td>\n",
       "    </tr>\n",
       "    <tr>\n",
       "      <th>34</th>\n",
       "      <td>38</td>\n",
       "      <td>56.72</td>\n",
       "      <td>539</td>\n",
       "    </tr>\n",
       "    <tr>\n",
       "      <th>35</th>\n",
       "      <td>39</td>\n",
       "      <td>58.21</td>\n",
       "      <td>299</td>\n",
       "    </tr>\n",
       "    <tr>\n",
       "      <th>36</th>\n",
       "      <td>40</td>\n",
       "      <td>59.70</td>\n",
       "      <td>54</td>\n",
       "    </tr>\n",
       "    <tr>\n",
       "      <th>37</th>\n",
       "      <td>41</td>\n",
       "      <td>61.19</td>\n",
       "      <td>55</td>\n",
       "    </tr>\n",
       "    <tr>\n",
       "      <th>38</th>\n",
       "      <td>42</td>\n",
       "      <td>62.69</td>\n",
       "      <td>25</td>\n",
       "    </tr>\n",
       "  </tbody>\n",
       "</table>\n",
       "</div>"
      ],
      "text/plain": [
       "    num_cols_missing  percent_cols_missing  num_rows\n",
       "30                34                 50.75      1131\n",
       "31                35                 52.24       668\n",
       "32                36                 53.73       266\n",
       "33                37                 55.22       322\n",
       "34                38                 56.72       539\n",
       "35                39                 58.21       299\n",
       "36                40                 59.70        54\n",
       "37                41                 61.19        55\n",
       "38                42                 62.69        25"
      ]
     },
     "execution_count": 48,
     "metadata": {},
     "output_type": "execute_result"
    }
   ],
   "source": [
    "nulls_rows[nulls_rows.percent_cols_missing > 50]"
   ]
  },
  {
   "cell_type": "code",
   "execution_count": 49,
   "id": "5a4f7c2b-c784-44c2-ab6c-c1504557c104",
   "metadata": {},
   "outputs": [
    {
     "data": {
      "text/plain": [
       "3359"
      ]
     },
     "execution_count": 49,
     "metadata": {},
     "output_type": "execute_result"
    }
   ],
   "source": [
    "nulls_rows[nulls_rows.percent_cols_missing > 50].num_rows.sum()"
   ]
  },
  {
   "cell_type": "markdown",
   "id": "37133653-4eaf-4096-b8fe-663157e83deb",
   "metadata": {},
   "source": [
    "**3359 rows will be dropped**"
   ]
  },
  {
   "cell_type": "code",
   "execution_count": 50,
   "id": "c2c3cad0-b88a-4a36-b3f3-d89f201d558e",
   "metadata": {},
   "outputs": [],
   "source": [
    "def handle_missing_values(df, prop_required_columns=0.5, prop_required_row=0.5):\n",
    "    '''\n",
    "    Takes in df and thresholds for null proportions in each column and row and returns df with only columns and rows below threshold\n",
    "    '''\n",
    "    threshold = int(round(prop_required_columns * len(df.index), 0))\n",
    "    df = df.dropna(axis=1, thresh=threshold)\n",
    "    threshold = int(round(prop_required_row * len(df.columns), 0))\n",
    "    df = df.dropna(axis=0, thresh=threshold)\n",
    "    return df"
   ]
  },
  {
   "cell_type": "code",
   "execution_count": 51,
   "id": "017ea1e2-4906-459b-93da-6032f420b6ee",
   "metadata": {},
   "outputs": [
    {
     "data": {
      "text/plain": [
       "(122842, 67)"
      ]
     },
     "execution_count": 51,
     "metadata": {},
     "output_type": "execute_result"
    }
   ],
   "source": [
    "df.shape"
   ]
  },
  {
   "cell_type": "code",
   "execution_count": 52,
   "id": "417f94de-217e-45ca-acc6-76cb14517770",
   "metadata": {},
   "outputs": [
    {
     "name": "stdout",
     "output_type": "stream",
     "text": [
      "CPU times: user 428 ms, sys: 47.9 ms, total: 476 ms\n",
      "Wall time: 502 ms\n"
     ]
    }
   ],
   "source": [
    "%%time\n",
    "df = handle_missing_values(df)"
   ]
  },
  {
   "cell_type": "code",
   "execution_count": 53,
   "id": "2f5e0c59-bb7c-4d98-aadd-88570e6b9ead",
   "metadata": {
    "tags": []
   },
   "outputs": [
    {
     "data": {
      "text/plain": [
       "(122816, 51)"
      ]
     },
     "execution_count": 53,
     "metadata": {},
     "output_type": "execute_result"
    }
   ],
   "source": [
    "df.shape"
   ]
  },
  {
   "cell_type": "code",
   "execution_count": 54,
   "id": "b844251a-0665-42a5-916f-585690f14ef4",
   "metadata": {},
   "outputs": [
    {
     "name": "stdout",
     "output_type": "stream",
     "text": [
      "<class 'pandas.core.frame.DataFrame'>\n",
      "Int64Index: 122816 entries, 0 to 122841\n",
      "Data columns (total 51 columns):\n",
      " #   Column                Non-Null Count   Dtype  \n",
      "---  ------                --------------   -----  \n",
      " 0   Unnamed: 0            122816 non-null  int64  \n",
      " 1   vin                   122816 non-null  object \n",
      " 2   back_legroom          116941 non-null  object \n",
      " 3   body_type             122357 non-null  object \n",
      " 4   city                  122816 non-null  object \n",
      " 5   city_fuel_economy     103714 non-null  float64\n",
      " 6   daysonmarket          122816 non-null  int64  \n",
      " 7   dealer_zip            122816 non-null  int64  \n",
      " 8   description           119334 non-null  object \n",
      " 9   engine_cylinders      118750 non-null  object \n",
      " 10  engine_displacement   116188 non-null  float64\n",
      " 11  engine_type           118750 non-null  object \n",
      " 12  exterior_color        122803 non-null  object \n",
      " 13  franchise_dealer      122816 non-null  bool   \n",
      " 14  franchise_make        94525 non-null   object \n",
      " 15  front_legroom         116941 non-null  object \n",
      " 16  fuel_tank_volume      116941 non-null  object \n",
      " 17  fuel_type             119261 non-null  object \n",
      " 18  height                116941 non-null  object \n",
      " 19  highway_fuel_economy  103714 non-null  float64\n",
      " 20  horsepower            116188 non-null  float64\n",
      " 21  interior_color        122816 non-null  object \n",
      " 22  is_new                122816 non-null  bool   \n",
      " 23  latitude              122816 non-null  float64\n",
      " 24  length                116941 non-null  object \n",
      " 25  listed_date           122816 non-null  object \n",
      " 26  listing_color         122816 non-null  object \n",
      " 27  listing_id            122816 non-null  int64  \n",
      " 28  longitude             122816 non-null  float64\n",
      " 29  main_picture_url      111629 non-null  object \n",
      " 30  major_options         114290 non-null  object \n",
      " 31  make_name             122816 non-null  object \n",
      " 32  maximum_seating       116941 non-null  object \n",
      " 33  mileage               118014 non-null  float64\n",
      " 34  model_name            122816 non-null  object \n",
      " 35  power                 104421 non-null  object \n",
      " 36  price                 122816 non-null  float64\n",
      " 37  savings_amount        122816 non-null  int64  \n",
      " 38  seller_rating         121199 non-null  float64\n",
      " 39  sp_id                 122814 non-null  float64\n",
      " 40  sp_name               122816 non-null  object \n",
      " 41  torque                103075 non-null  object \n",
      " 42  transmission          119394 non-null  object \n",
      " 43  transmission_display  119394 non-null  object \n",
      " 44  trimId                118291 non-null  object \n",
      " 45  trim_name             118283 non-null  object \n",
      " 46  wheel_system          116923 non-null  object \n",
      " 47  wheel_system_display  116923 non-null  object \n",
      " 48  wheelbase             116941 non-null  object \n",
      " 49  width                 116941 non-null  object \n",
      " 50  year                  122816 non-null  int64  \n",
      "dtypes: bool(2), float64(10), int64(6), object(33)\n",
      "memory usage: 47.1+ MB\n"
     ]
    }
   ],
   "source": [
    "df.info()"
   ]
  },
  {
   "cell_type": "code",
   "execution_count": 55,
   "id": "f2b0fa16-911e-461a-bca5-11df5f44cde6",
   "metadata": {},
   "outputs": [
    {
     "data": {
      "text/plain": [
       "Index(['Unnamed: 0', 'vin', 'back_legroom', 'body_type', 'city',\n",
       "       'city_fuel_economy', 'daysonmarket', 'dealer_zip', 'description',\n",
       "       'engine_cylinders', 'engine_displacement', 'engine_type',\n",
       "       'exterior_color', 'franchise_dealer', 'franchise_make', 'front_legroom',\n",
       "       'fuel_tank_volume', 'fuel_type', 'height', 'highway_fuel_economy',\n",
       "       'horsepower', 'interior_color', 'is_new', 'latitude', 'length',\n",
       "       'listed_date', 'listing_color', 'listing_id', 'longitude',\n",
       "       'main_picture_url', 'major_options', 'make_name', 'maximum_seating',\n",
       "       'mileage', 'model_name', 'power', 'price', 'savings_amount',\n",
       "       'seller_rating', 'sp_id', 'sp_name', 'torque', 'transmission',\n",
       "       'transmission_display', 'trimId', 'trim_name', 'wheel_system',\n",
       "       'wheel_system_display', 'wheelbase', 'width', 'year'],\n",
       "      dtype='object')"
      ]
     },
     "execution_count": 55,
     "metadata": {},
     "output_type": "execute_result"
    }
   ],
   "source": [
    "df.columns"
   ]
  },
  {
   "cell_type": "markdown",
   "id": "26c79a4b-20e0-4413-bb97-1541511d84c3",
   "metadata": {},
   "source": [
    "---\n",
    "Initial Ideas/Thoughts about columns:\n",
    "- VIN\n",
    "    - Keep as ID? Or just use pandas ID\n",
    "    - Could use VIN to try to look up vehicle and get more data, but would be beyond scope of this project\n",
    "    - Drop\n",
    "- back_legroom\n",
    "    - Has a lot of data, measurement in inches, but formatted as string, don't think it will be good predictor\n",
    "    - Drop\n",
    "- body-type\n",
    "    - 9 categories, keep\n",
    "- city\n",
    "    - 7 cities\n",
    "    - keep\n",
    "- city_fuel_economy\n",
    "    - looks like there are some outliers here\n",
    "    - remove outliers and keep\n",
    "- daysonmarket\n",
    "    - Also has outliers (are they?)\n",
    "    - Should I remove these?\n",
    "    - Don't think it will be great predictor\n",
    "    - Drop\n",
    "- dealer_zip\n",
    "    - 249 values\n",
    "    - use lat and long instead\n",
    "    - Drop\n",
    "- description\n",
    "    - long text description\n",
    "    - drop\n",
    "- engine_cylinders\n",
    "    - 31 values\n",
    "    - Maybe simpify just to number of cylinders?\n",
    "    - Drop for now\n",
    "- engine_displacement\n",
    "    - Maybe some outliers\n",
    "    - keep for now\n",
    "- engine_type\n",
    "    - identical data to engine_cylinders\n",
    "    - drop for now\n",
    "- exterior_color\n",
    "    - 4310 values\n",
    "    - Could try to clean this column up\n",
    "    - drop for now\n",
    "- franchise_dealer\n",
    "    - no nulls\n",
    "    - keep for now\n",
    "- franchise_make\n",
    "    - 39 values\n",
    "    - keep for now\n",
    "- front_legroom\n",
    "    - Has a lot of data, measurement in inches, but formatted as string, don't think it will be good predictor\n",
    "    - Drop\n",
    "- fuel_tank_volume\n",
    "    - currently string\n",
    "    - format and convert to float\n",
    "    - check distriution"
   ]
  },
  {
   "cell_type": "markdown",
   "id": "3041a061-7864-40c4-bcee-391d5b133f21",
   "metadata": {},
   "source": [
    "---"
   ]
  },
  {
   "cell_type": "code",
   "execution_count": 29,
   "id": "a805aec3-6222-4b2f-8614-4245380b0b8c",
   "metadata": {},
   "outputs": [
    {
     "data": {
      "text/plain": [
       "26 gal      8940\n",
       "13.2 gal    7637\n",
       "18.5 gal    5806\n",
       "14 gal      4594\n",
       "14.5 gal    4155\n",
       "            ... \n",
       "42 gal         2\n",
       "12.6 gal       2\n",
       "8.5 gal        1\n",
       "18.7 gal       1\n",
       "8 gal          1\n",
       "Name: fuel_tank_volume, Length: 161, dtype: int64"
      ]
     },
     "execution_count": 29,
     "metadata": {},
     "output_type": "execute_result"
    }
   ],
   "source": [
    "df.fuel_tank_volume.value_counts()"
   ]
  },
  {
   "cell_type": "code",
   "execution_count": 51,
   "id": "edb2d697-b332-4ac7-8225-a12403de42e9",
   "metadata": {},
   "outputs": [
    {
     "data": {
      "text/plain": [
       "<AxesSubplot:ylabel='engine_displacement'>"
      ]
     },
     "execution_count": 51,
     "metadata": {},
     "output_type": "execute_result"
    },
    {
     "data": {
      "image/png": "[encoded data removed]",
      "text/plain": [
       "<Figure size 936x432 with 1 Axes>"
      ]
     },
     "metadata": {
      "needs_background": "light"
     },
     "output_type": "display_data"
    }
   ],
   "source": [
    "sns.boxplot(y=df.engine_displacement)"
   ]
  },
  {
   "cell_type": "markdown",
   "id": "ff986487-3e8c-45a1-9c51-a73fd5ad45b7",
   "metadata": {},
   "source": [
    "---"
   ]
  },
  {
   "cell_type": "code",
   "execution_count": null,
   "id": "0a405f48-d0cb-4386-8b20-45c877ae8a3d",
   "metadata": {},
   "outputs": [],
   "source": [
    "df.drop(columns=[\n",
    "    'vin',\n",
    "    'back_legroom',\n",
    "    'daysonmarket',\n",
    "    'dealer_zip',\n",
    "    'description',\n",
    "    'engine_cylinders',\n",
    "    'engine_type',\n",
    "    'exterior_color',\n",
    "    'front_legroom',\n",
    "    ''\n",
    "])"
   ]
  },
  {
   "cell_type": "markdown",
   "id": "783d812b-5ed5-4699-9014-b257a52616b3",
   "metadata": {},
   "source": [
    "---"
   ]
  },
  {
   "cell_type": "code",
   "execution_count": 31,
   "id": "d6b023fd-a646-45f8-94c2-0cbc7c912b69",
   "metadata": {},
   "outputs": [],
   "source": [
    "# df.fuel_tank_volume.astype('object')"
   ]
  },
  {
   "cell_type": "code",
   "execution_count": 32,
   "id": "22e27ba6-ccd9-4a0a-99b5-d150ff13d256",
   "metadata": {},
   "outputs": [
    {
     "data": {
      "text/plain": [
       "dtype('O')"
      ]
     },
     "execution_count": 32,
     "metadata": {},
     "output_type": "execute_result"
    }
   ],
   "source": [
    "df.fuel_tank_volume.dtype"
   ]
  },
  {
   "cell_type": "code",
   "execution_count": 33,
   "id": "6e7c63a6-924a-41a9-8cad-4623aa7cab4d",
   "metadata": {},
   "outputs": [],
   "source": [
    "# df.fuel_tank_volume.apply(find_space)"
   ]
  },
  {
   "cell_type": "code",
   "execution_count": 34,
   "id": "ff9f68df-1f45-46fc-b9a7-2d9009e6a229",
   "metadata": {},
   "outputs": [],
   "source": [
    "def pull_out_numbers(string):\n",
    "    new_string = ''\n",
    "    for char in string:\n",
    "        if char.isnumeric():\n",
    "            new_string += char\n",
    "    return new_string"
   ]
  },
  {
   "cell_type": "code",
   "execution_count": 35,
   "id": "0da54996-afd6-4a82-8558-ae159205194a",
   "metadata": {},
   "outputs": [],
   "source": [
    "def find_space(string):\n",
    "    for i, char in enumerate(string):\n",
    "        if char == ' ':\n",
    "            marker = i\n",
    "    return string[:marker]"
   ]
  },
  {
   "cell_type": "code",
   "execution_count": 36,
   "id": "c05a6c7e-b016-46c6-b637-8c8b3f7d040d",
   "metadata": {},
   "outputs": [
    {
     "data": {
      "text/plain": [
       "'12.4'"
      ]
     },
     "execution_count": 36,
     "metadata": {},
     "output_type": "execute_result"
    }
   ],
   "source": [
    "find_space('12.4 gal')"
   ]
  },
  {
   "cell_type": "code",
   "execution_count": 37,
   "id": "e438b780-72a0-4b27-951e-efbca8c8e8cf",
   "metadata": {},
   "outputs": [
    {
     "data": {
      "text/plain": [
       "'12365'"
      ]
     },
     "execution_count": 37,
     "metadata": {},
     "output_type": "execute_result"
    }
   ],
   "source": [
    "pull_out_numbers('123asdfs65')"
   ]
  }
 ],
 "metadata": {
  "kernelspec": {
   "display_name": "Python 3",
   "language": "python",
   "name": "python3"
  },
  "language_info": {
   "codemirror_mode": {
    "name": "ipython",
    "version": 3
   },
   "file_extension": ".py",
   "mimetype": "text/x-python",
   "name": "python",
   "nbconvert_exporter": "python",
   "pygments_lexer": "ipython3",
   "version": "3.8.8"
  }
 },
 "nbformat": 4,
 "nbformat_minor": 5
}
