{
 "cells": [
  {
   "cell_type": "markdown",
   "id": "27e9da99-8bb2-47b2-96cc-28ec35b53343",
   "metadata": {},
   "source": [
    "---\n",
    "# Imports\n",
    "---"
   ]
  },
  {
   "cell_type": "code",
   "execution_count": 1,
   "id": "ee8f5796-bada-4f30-94e9-2d33151217b2",
   "metadata": {},
   "outputs": [],
   "source": [
    "import pandas as pd\n",
    "import numpy as np\n",
    "import matplotlib.pyplot as plt\n",
    "import seaborn as sns\n",
    "\n",
    "import warnings\n",
    "warnings.filterwarnings(\"ignore\")\n",
    "\n",
    "plt.rc('figure', figsize=(13, 6))\n",
    "plt.rc('font', size=13)"
   ]
  },
  {
   "cell_type": "markdown",
   "id": "ca21a072-722d-4b62-8d9f-83cbd0043e57",
   "metadata": {},
   "source": [
    "---\n",
    "# Acquire\n",
    "---"
   ]
  },
  {
   "cell_type": "markdown",
   "id": "6ac87180-803f-4697-b24e-5304ba269d8e",
   "metadata": {},
   "source": [
    "## full data import"
   ]
  },
  {
   "cell_type": "code",
   "execution_count": 41,
   "id": "835a12b5-8cde-4787-b09c-c94b3134b687",
   "metadata": {
    "tags": []
   },
   "outputs": [],
   "source": [
    "# %%time\n",
    "# df = pd.read_csv('used_cars_data.csv')"
   ]
  },
  {
   "cell_type": "code",
   "execution_count": 43,
   "id": "43e355c3-0b26-4144-9ee0-f646aa930862",
   "metadata": {
    "tags": []
   },
   "outputs": [],
   "source": [
    "# df.shape"
   ]
  },
  {
   "cell_type": "markdown",
   "id": "200e6337-f635-48a1-a7a1-0750987b1b7b",
   "metadata": {
    "tags": []
   },
   "source": [
    "---\n",
    "Maybe only keep cities with a lot of data in TX\n",
    "- San Antonio, \n",
    "- Houston\n",
    "- Dallas\n",
    "- Austin\n",
    "- El Paso?\n",
    "- Arlington (is this the Arlington in TX?)\n",
    "- Fort Worth"
   ]
  },
  {
   "cell_type": "code",
   "execution_count": 44,
   "id": "4eadb17b-d18a-4570-8f58-bdcde94bf721",
   "metadata": {
    "tags": []
   },
   "outputs": [],
   "source": [
    "# df = df[(df.city == 'San Antonio') |\n",
    "#         (df.city == 'Houston') |\n",
    "#         (df.city == 'Dallas') |\n",
    "#         (df.city == 'Austin') |\n",
    "#         (df.city == 'El Paso') |\n",
    "#         (df.city == 'Arlington') |\n",
    "#         (df.city == 'Fort Worth')]"
   ]
  },
  {
   "cell_type": "code",
   "execution_count": 45,
   "id": "1bcfa403-e761-4040-b26e-5337fb065d3a",
   "metadata": {
    "tags": []
   },
   "outputs": [],
   "source": [
    "# df.shape"
   ]
  },
  {
   "cell_type": "markdown",
   "id": "20316257-7dd8-4e74-ad79-4205461739cb",
   "metadata": {
    "tags": []
   },
   "source": [
    "---\n",
    "Export .csv here to do rest of work with"
   ]
  },
  {
   "cell_type": "code",
   "execution_count": 46,
   "id": "f0870b79-912e-4ee9-838f-0e455dbb69d3",
   "metadata": {
    "tags": []
   },
   "outputs": [],
   "source": [
    "# df.to_csv('texas_car_data.csv')"
   ]
  },
  {
   "cell_type": "markdown",
   "id": "8086ab81-150f-4b11-a69c-6df515f417d9",
   "metadata": {},
   "source": [
    "---\n",
    "## Only TX cars import\n",
    "---"
   ]
  },
  {
   "cell_type": "code",
   "execution_count": 274,
   "id": "befb639f-2e1e-48d8-a8e9-2b19165b942b",
   "metadata": {},
   "outputs": [
    {
     "name": "stdout",
     "output_type": "stream",
     "text": [
      "CPU times: user 3.19 s, sys: 354 ms, total: 3.54 s\n",
      "Wall time: 3.59 s\n"
     ]
    }
   ],
   "source": [
    "%%time\n",
    "df = pd.read_csv('texas_car_data.csv', index_col=0)"
   ]
  },
  {
   "cell_type": "code",
   "execution_count": null,
   "id": "1f0f7088-d549-47be-bcc1-a8788dd03b84",
   "metadata": {},
   "outputs": [],
   "source": [
    "df = df.reset_index(drop=True) # reset index for this subset of the dataset"
   ]
  },
  {
   "cell_type": "code",
   "execution_count": 275,
   "id": "6efc2cc7-2b35-4562-b336-11a9896159a4",
   "metadata": {},
   "outputs": [
    {
     "data": {
      "text/plain": [
       "(122842, 66)"
      ]
     },
     "execution_count": 275,
     "metadata": {},
     "output_type": "execute_result"
    }
   ],
   "source": [
    "df.shape"
   ]
  },
  {
   "cell_type": "code",
   "execution_count": 276,
   "id": "f13debf9-8fe1-4f47-a22f-00aec7b57a1d",
   "metadata": {},
   "outputs": [
    {
     "data": {
      "text/html": [
       "<div>\n",
       "<style scoped>\n",
       "    .dataframe tbody tr th:only-of-type {\n",
       "        vertical-align: middle;\n",
       "    }\n",
       "\n",
       "    .dataframe tbody tr th {\n",
       "        vertical-align: top;\n",
       "    }\n",
       "\n",
       "    .dataframe thead th {\n",
       "        text-align: right;\n",
       "    }\n",
       "</style>\n",
       "<table border=\"1\" class=\"dataframe\">\n",
       "  <thead>\n",
       "    <tr style=\"text-align: right;\">\n",
       "      <th></th>\n",
       "      <th>vin</th>\n",
       "      <th>back_legroom</th>\n",
       "      <th>bed</th>\n",
       "      <th>bed_height</th>\n",
       "      <th>bed_length</th>\n",
       "      <th>body_type</th>\n",
       "      <th>cabin</th>\n",
       "      <th>city</th>\n",
       "      <th>city_fuel_economy</th>\n",
       "      <th>combine_fuel_economy</th>\n",
       "      <th>...</th>\n",
       "      <th>transmission</th>\n",
       "      <th>transmission_display</th>\n",
       "      <th>trimId</th>\n",
       "      <th>trim_name</th>\n",
       "      <th>vehicle_damage_category</th>\n",
       "      <th>wheel_system</th>\n",
       "      <th>wheel_system_display</th>\n",
       "      <th>wheelbase</th>\n",
       "      <th>width</th>\n",
       "      <th>year</th>\n",
       "    </tr>\n",
       "  </thead>\n",
       "  <tbody>\n",
       "    <tr>\n",
       "      <th>139229</th>\n",
       "      <td>JHMFC1F73JX018575</td>\n",
       "      <td>37.4 in</td>\n",
       "      <td>NaN</td>\n",
       "      <td>NaN</td>\n",
       "      <td>NaN</td>\n",
       "      <td>Sedan</td>\n",
       "      <td>NaN</td>\n",
       "      <td>Fort Worth</td>\n",
       "      <td>32.0</td>\n",
       "      <td>NaN</td>\n",
       "      <td>...</td>\n",
       "      <td>CVT</td>\n",
       "      <td>Continuously Variable Transmission</td>\n",
       "      <td>t76411</td>\n",
       "      <td>Touring</td>\n",
       "      <td>NaN</td>\n",
       "      <td>FWD</td>\n",
       "      <td>Front-Wheel Drive</td>\n",
       "      <td>106.3 in</td>\n",
       "      <td>70.8 in</td>\n",
       "      <td>2018</td>\n",
       "    </tr>\n",
       "  </tbody>\n",
       "</table>\n",
       "<p>1 rows × 66 columns</p>\n",
       "</div>"
      ],
      "text/plain": [
       "                      vin back_legroom  bed bed_height bed_length body_type  \\\n",
       "139229  JHMFC1F73JX018575      37.4 in  NaN        NaN        NaN     Sedan   \n",
       "\n",
       "       cabin        city  city_fuel_economy  combine_fuel_economy  ...  \\\n",
       "139229   NaN  Fort Worth               32.0                   NaN  ...   \n",
       "\n",
       "        transmission                transmission_display  trimId trim_name  \\\n",
       "139229           CVT  Continuously Variable Transmission  t76411   Touring   \n",
       "\n",
       "        vehicle_damage_category wheel_system wheel_system_display wheelbase  \\\n",
       "139229                      NaN          FWD    Front-Wheel Drive  106.3 in   \n",
       "\n",
       "          width  year  \n",
       "139229  70.8 in  2018  \n",
       "\n",
       "[1 rows x 66 columns]"
      ]
     },
     "execution_count": 276,
     "metadata": {},
     "output_type": "execute_result"
    }
   ],
   "source": [
    "df.head(1)"
   ]
  },
  {
   "cell_type": "markdown",
   "id": "a0d6faba-0426-4379-b9f6-35cdaf18a2df",
   "metadata": {},
   "source": [
    "---\n",
    "# Prepare\n",
    "---"
   ]
  },
  {
   "cell_type": "markdown",
   "id": "7afec507-ec4d-402d-8ecd-6325327a0828",
   "metadata": {},
   "source": [
    "## Quick clean for MVP"
   ]
  },
  {
   "cell_type": "code",
   "execution_count": 277,
   "id": "ea0faef5-df96-459b-8cc8-8bf36a002735",
   "metadata": {},
   "outputs": [
    {
     "data": {
      "text/plain": [
       "0"
      ]
     },
     "execution_count": 277,
     "metadata": {},
     "output_type": "execute_result"
    }
   ],
   "source": [
    "# just curious to see if this is even really necessary. How many duplicates even are there?\n",
    "df.duplicated().sum()"
   ]
  },
  {
   "cell_type": "code",
   "execution_count": 278,
   "id": "35b268c5-b3b5-4270-acc3-d0ea5c626c2d",
   "metadata": {},
   "outputs": [],
   "source": [
    "df = df.drop_duplicates()"
   ]
  },
  {
   "cell_type": "code",
   "execution_count": 279,
   "id": "8132472e-1461-49cf-944c-3b0f8ea29f20",
   "metadata": {},
   "outputs": [
    {
     "data": {
      "text/plain": [
       "(122842, 66)"
      ]
     },
     "execution_count": 279,
     "metadata": {},
     "output_type": "execute_result"
    }
   ],
   "source": [
    "df.shape"
   ]
  },
  {
   "cell_type": "code",
   "execution_count": 280,
   "id": "c81d1ccd-e9e3-447d-b9fd-e045eb821dc4",
   "metadata": {},
   "outputs": [
    {
     "data": {
      "text/plain": [
       "(0, 66)"
      ]
     },
     "execution_count": 280,
     "metadata": {},
     "output_type": "execute_result"
    }
   ],
   "source": [
    "df.dropna().shape\n",
    "# cannot drop them all since all rows have at least one null value"
   ]
  },
  {
   "cell_type": "code",
   "execution_count": 281,
   "id": "51e08220-fbdd-4270-b7f4-aafd818cfc05",
   "metadata": {},
   "outputs": [
    {
     "data": {
      "text/plain": [
       "(122842, 66)"
      ]
     },
     "execution_count": 281,
     "metadata": {},
     "output_type": "execute_result"
    }
   ],
   "source": [
    "df.shape"
   ]
  },
  {
   "cell_type": "markdown",
   "id": "fec2a2ad-9818-4799-9234-a77e40fa8554",
   "metadata": {},
   "source": [
    "---"
   ]
  },
  {
   "cell_type": "markdown",
   "id": "675cea3f-ecb8-4cac-9094-2e5f3d559efb",
   "metadata": {},
   "source": [
    "## More nuanced prep involving imputation"
   ]
  },
  {
   "cell_type": "code",
   "execution_count": 282,
   "id": "7a1768fb-ff65-4329-aa05-33dbcd63000b",
   "metadata": {},
   "outputs": [],
   "source": [
    "def nulls_by_col(df):\n",
    "    '''\n",
    "    Takes in df and shows count of how many rows are null and percentage of total rows that are null\n",
    "    '''\n",
    "    num_missing = df.isnull().sum()\n",
    "    rows = df.shape[0]\n",
    "    prcnt_miss = round(num_missing / rows * 100, 2)\n",
    "    cols_missing = pd.DataFrame({'num_rows_missing': num_missing, 'percent_rows_missing': prcnt_miss})\n",
    "    return cols_missing"
   ]
  },
  {
   "cell_type": "code",
   "execution_count": 283,
   "id": "3f465c3b-b150-4f19-aa65-8d0430e08c39",
   "metadata": {},
   "outputs": [],
   "source": [
    "nulls_cols = nulls_by_col(df)"
   ]
  },
  {
   "cell_type": "code",
   "execution_count": 284,
   "id": "fd218fc0-8999-40d7-a3b8-2f98ee22ebe2",
   "metadata": {},
   "outputs": [
    {
     "data": {
      "text/html": [
       "<div>\n",
       "<style scoped>\n",
       "    .dataframe tbody tr th:only-of-type {\n",
       "        vertical-align: middle;\n",
       "    }\n",
       "\n",
       "    .dataframe tbody tr th {\n",
       "        vertical-align: top;\n",
       "    }\n",
       "\n",
       "    .dataframe thead th {\n",
       "        text-align: right;\n",
       "    }\n",
       "</style>\n",
       "<table border=\"1\" class=\"dataframe\">\n",
       "  <thead>\n",
       "    <tr style=\"text-align: right;\">\n",
       "      <th></th>\n",
       "      <th>num_rows_missing</th>\n",
       "      <th>percent_rows_missing</th>\n",
       "    </tr>\n",
       "  </thead>\n",
       "  <tbody>\n",
       "    <tr>\n",
       "      <th>bed</th>\n",
       "      <td>121639</td>\n",
       "      <td>99.02</td>\n",
       "    </tr>\n",
       "    <tr>\n",
       "      <th>bed_height</th>\n",
       "      <td>104915</td>\n",
       "      <td>85.41</td>\n",
       "    </tr>\n",
       "    <tr>\n",
       "      <th>bed_length</th>\n",
       "      <td>104915</td>\n",
       "      <td>85.41</td>\n",
       "    </tr>\n",
       "    <tr>\n",
       "      <th>cabin</th>\n",
       "      <td>120703</td>\n",
       "      <td>98.26</td>\n",
       "    </tr>\n",
       "    <tr>\n",
       "      <th>combine_fuel_economy</th>\n",
       "      <td>122842</td>\n",
       "      <td>100.00</td>\n",
       "    </tr>\n",
       "    <tr>\n",
       "      <th>fleet</th>\n",
       "      <td>62167</td>\n",
       "      <td>50.61</td>\n",
       "    </tr>\n",
       "    <tr>\n",
       "      <th>frame_damaged</th>\n",
       "      <td>62167</td>\n",
       "      <td>50.61</td>\n",
       "    </tr>\n",
       "    <tr>\n",
       "      <th>has_accidents</th>\n",
       "      <td>62167</td>\n",
       "      <td>50.61</td>\n",
       "    </tr>\n",
       "    <tr>\n",
       "      <th>isCab</th>\n",
       "      <td>62167</td>\n",
       "      <td>50.61</td>\n",
       "    </tr>\n",
       "    <tr>\n",
       "      <th>is_certified</th>\n",
       "      <td>122842</td>\n",
       "      <td>100.00</td>\n",
       "    </tr>\n",
       "    <tr>\n",
       "      <th>is_cpo</th>\n",
       "      <td>116905</td>\n",
       "      <td>95.17</td>\n",
       "    </tr>\n",
       "    <tr>\n",
       "      <th>is_oemcpo</th>\n",
       "      <td>118377</td>\n",
       "      <td>96.37</td>\n",
       "    </tr>\n",
       "    <tr>\n",
       "      <th>owner_count</th>\n",
       "      <td>65454</td>\n",
       "      <td>53.28</td>\n",
       "    </tr>\n",
       "    <tr>\n",
       "      <th>salvage</th>\n",
       "      <td>62167</td>\n",
       "      <td>50.61</td>\n",
       "    </tr>\n",
       "    <tr>\n",
       "      <th>theft_title</th>\n",
       "      <td>62167</td>\n",
       "      <td>50.61</td>\n",
       "    </tr>\n",
       "    <tr>\n",
       "      <th>vehicle_damage_category</th>\n",
       "      <td>122842</td>\n",
       "      <td>100.00</td>\n",
       "    </tr>\n",
       "  </tbody>\n",
       "</table>\n",
       "</div>"
      ],
      "text/plain": [
       "                         num_rows_missing  percent_rows_missing\n",
       "bed                                121639                 99.02\n",
       "bed_height                         104915                 85.41\n",
       "bed_length                         104915                 85.41\n",
       "cabin                              120703                 98.26\n",
       "combine_fuel_economy               122842                100.00\n",
       "fleet                               62167                 50.61\n",
       "frame_damaged                       62167                 50.61\n",
       "has_accidents                       62167                 50.61\n",
       "isCab                               62167                 50.61\n",
       "is_certified                       122842                100.00\n",
       "is_cpo                             116905                 95.17\n",
       "is_oemcpo                          118377                 96.37\n",
       "owner_count                         65454                 53.28\n",
       "salvage                             62167                 50.61\n",
       "theft_title                         62167                 50.61\n",
       "vehicle_damage_category            122842                100.00"
      ]
     },
     "execution_count": 284,
     "metadata": {},
     "output_type": "execute_result"
    }
   ],
   "source": [
    "nulls_cols[nulls_cols.percent_rows_missing > 50]"
   ]
  },
  {
   "cell_type": "code",
   "execution_count": 285,
   "id": "c23838eb-c79c-4a5a-8aa1-f528d83880ac",
   "metadata": {},
   "outputs": [
    {
     "data": {
      "text/plain": [
       "(16, 2)"
      ]
     },
     "execution_count": 285,
     "metadata": {},
     "output_type": "execute_result"
    }
   ],
   "source": [
    "nulls_cols[nulls_cols.percent_rows_missing > 50].shape"
   ]
  },
  {
   "cell_type": "markdown",
   "id": "ea10dc75-3b64-4852-a839-cd6a8e83cf5b",
   "metadata": {},
   "source": [
    "**All of these columns will be dropped**"
   ]
  },
  {
   "cell_type": "code",
   "execution_count": 286,
   "id": "6fd3efec-6e81-47b8-a2a1-5820f4af88bf",
   "metadata": {},
   "outputs": [],
   "source": [
    "def nulls_by_row(df):\n",
    "    '''\n",
    "    Takes in df and shows count of how many columns are null and percentage of total columns that are null and value count of each unique combo\n",
    "    '''\n",
    "    num_missing = df.isnull().sum(axis=1)\n",
    "    prcnt_miss = round(num_missing / df.shape[1] * 100, 2)\n",
    "    rows_missing = pd.DataFrame({'num_cols_missing': num_missing, 'percent_cols_missing': prcnt_miss})\\\n",
    "    .reset_index()\\\n",
    "    .groupby(['num_cols_missing', 'percent_cols_missing']).count()\\\n",
    "    .rename(columns={'index': 'num_rows'}).reset_index()\n",
    "    return rows_missing"
   ]
  },
  {
   "cell_type": "code",
   "execution_count": 287,
   "id": "8f24f573-bea7-4325-ab08-14b8bff805a6",
   "metadata": {},
   "outputs": [],
   "source": [
    "nulls_rows = nulls_by_row(df)"
   ]
  },
  {
   "cell_type": "code",
   "execution_count": 288,
   "id": "12047025-4ab2-40d0-adff-1bd7112d9d05",
   "metadata": {},
   "outputs": [
    {
     "data": {
      "text/html": [
       "<div>\n",
       "<style scoped>\n",
       "    .dataframe tbody tr th:only-of-type {\n",
       "        vertical-align: middle;\n",
       "    }\n",
       "\n",
       "    .dataframe tbody tr th {\n",
       "        vertical-align: top;\n",
       "    }\n",
       "\n",
       "    .dataframe thead th {\n",
       "        text-align: right;\n",
       "    }\n",
       "</style>\n",
       "<table border=\"1\" class=\"dataframe\">\n",
       "  <thead>\n",
       "    <tr style=\"text-align: right;\">\n",
       "      <th></th>\n",
       "      <th>num_cols_missing</th>\n",
       "      <th>percent_cols_missing</th>\n",
       "      <th>num_rows</th>\n",
       "    </tr>\n",
       "  </thead>\n",
       "  <tbody>\n",
       "    <tr>\n",
       "      <th>30</th>\n",
       "      <td>34</td>\n",
       "      <td>51.52</td>\n",
       "      <td>1131</td>\n",
       "    </tr>\n",
       "    <tr>\n",
       "      <th>31</th>\n",
       "      <td>35</td>\n",
       "      <td>53.03</td>\n",
       "      <td>668</td>\n",
       "    </tr>\n",
       "    <tr>\n",
       "      <th>32</th>\n",
       "      <td>36</td>\n",
       "      <td>54.55</td>\n",
       "      <td>266</td>\n",
       "    </tr>\n",
       "    <tr>\n",
       "      <th>33</th>\n",
       "      <td>37</td>\n",
       "      <td>56.06</td>\n",
       "      <td>322</td>\n",
       "    </tr>\n",
       "    <tr>\n",
       "      <th>34</th>\n",
       "      <td>38</td>\n",
       "      <td>57.58</td>\n",
       "      <td>539</td>\n",
       "    </tr>\n",
       "    <tr>\n",
       "      <th>35</th>\n",
       "      <td>39</td>\n",
       "      <td>59.09</td>\n",
       "      <td>299</td>\n",
       "    </tr>\n",
       "    <tr>\n",
       "      <th>36</th>\n",
       "      <td>40</td>\n",
       "      <td>60.61</td>\n",
       "      <td>54</td>\n",
       "    </tr>\n",
       "    <tr>\n",
       "      <th>37</th>\n",
       "      <td>41</td>\n",
       "      <td>62.12</td>\n",
       "      <td>55</td>\n",
       "    </tr>\n",
       "    <tr>\n",
       "      <th>38</th>\n",
       "      <td>42</td>\n",
       "      <td>63.64</td>\n",
       "      <td>25</td>\n",
       "    </tr>\n",
       "  </tbody>\n",
       "</table>\n",
       "</div>"
      ],
      "text/plain": [
       "    num_cols_missing  percent_cols_missing  num_rows\n",
       "30                34                 51.52      1131\n",
       "31                35                 53.03       668\n",
       "32                36                 54.55       266\n",
       "33                37                 56.06       322\n",
       "34                38                 57.58       539\n",
       "35                39                 59.09       299\n",
       "36                40                 60.61        54\n",
       "37                41                 62.12        55\n",
       "38                42                 63.64        25"
      ]
     },
     "execution_count": 288,
     "metadata": {},
     "output_type": "execute_result"
    }
   ],
   "source": [
    "nulls_rows[nulls_rows.percent_cols_missing > 50]"
   ]
  },
  {
   "cell_type": "code",
   "execution_count": 289,
   "id": "5a4f7c2b-c784-44c2-ab6c-c1504557c104",
   "metadata": {},
   "outputs": [
    {
     "data": {
      "text/plain": [
       "3359"
      ]
     },
     "execution_count": 289,
     "metadata": {},
     "output_type": "execute_result"
    }
   ],
   "source": [
    "nulls_rows[nulls_rows.percent_cols_missing > 50].num_rows.sum()"
   ]
  },
  {
   "cell_type": "markdown",
   "id": "37133653-4eaf-4096-b8fe-663157e83deb",
   "metadata": {},
   "source": [
    "**3359 rows will be dropped (if we were looking at original df, but in function, columns are dropped first, so %s will change and less rows will be dropped)**"
   ]
  },
  {
   "cell_type": "code",
   "execution_count": 290,
   "id": "c2c3cad0-b88a-4a36-b3f3-d89f201d558e",
   "metadata": {},
   "outputs": [],
   "source": [
    "def handle_missing_values(df, prop_required_columns=0.5, prop_required_row=0.5):\n",
    "    '''\n",
    "    Takes in df and thresholds for null proportions in each column and row and returns df with only columns and rows below threshold\n",
    "    '''\n",
    "    threshold = int(round(prop_required_columns * len(df.index), 0))\n",
    "    df = df.dropna(axis=1, thresh=threshold)\n",
    "    threshold = int(round(prop_required_row * len(df.columns), 0))\n",
    "    df = df.dropna(axis=0, thresh=threshold)\n",
    "    return df"
   ]
  },
  {
   "cell_type": "code",
   "execution_count": 291,
   "id": "017ea1e2-4906-459b-93da-6032f420b6ee",
   "metadata": {},
   "outputs": [
    {
     "data": {
      "text/plain": [
       "(122842, 66)"
      ]
     },
     "execution_count": 291,
     "metadata": {},
     "output_type": "execute_result"
    }
   ],
   "source": [
    "df.shape"
   ]
  },
  {
   "cell_type": "code",
   "execution_count": 292,
   "id": "417f94de-217e-45ca-acc6-76cb14517770",
   "metadata": {},
   "outputs": [
    {
     "name": "stdout",
     "output_type": "stream",
     "text": [
      "CPU times: user 417 ms, sys: 39.8 ms, total: 457 ms\n",
      "Wall time: 461 ms\n"
     ]
    }
   ],
   "source": [
    "%%time\n",
    "df = handle_missing_values(df)"
   ]
  },
  {
   "cell_type": "code",
   "execution_count": 293,
   "id": "2f5e0c59-bb7c-4d98-aadd-88570e6b9ead",
   "metadata": {
    "tags": []
   },
   "outputs": [
    {
     "data": {
      "text/plain": [
       "(122816, 50)"
      ]
     },
     "execution_count": 293,
     "metadata": {},
     "output_type": "execute_result"
    }
   ],
   "source": [
    "df.shape"
   ]
  },
  {
   "cell_type": "code",
   "execution_count": 294,
   "id": "1fd8e156-10b7-4e07-8479-12796949ff41",
   "metadata": {},
   "outputs": [
    {
     "data": {
      "text/plain": [
       "26"
      ]
     },
     "execution_count": 294,
     "metadata": {},
     "output_type": "execute_result"
    }
   ],
   "source": [
    "122_842 - 122_816"
   ]
  },
  {
   "cell_type": "code",
   "execution_count": 613,
   "id": "b844251a-0665-42a5-916f-585690f14ef4",
   "metadata": {},
   "outputs": [
    {
     "name": "stdout",
     "output_type": "stream",
     "text": [
      "<class 'pandas.core.frame.DataFrame'>\n",
      "Int64Index: 122816 entries, 0 to 122841\n",
      "Data columns (total 37 columns):\n",
      " #   Column                Non-Null Count   Dtype  \n",
      "---  ------                --------------   -----  \n",
      " 0   back_legroom          122816 non-null  float64\n",
      " 1   body_type             122357 non-null  object \n",
      " 2   city                  122816 non-null  object \n",
      " 3   city_fuel_economy     103714 non-null  float64\n",
      " 4   engine_displacement   116188 non-null  float64\n",
      " 5   franchise_dealer      122816 non-null  int64  \n",
      " 6   front_legroom         122816 non-null  float64\n",
      " 7   fuel_tank_volume      122816 non-null  float64\n",
      " 8   fuel_type             119261 non-null  object \n",
      " 9   height                122816 non-null  float64\n",
      " 10  highway_fuel_economy  103714 non-null  float64\n",
      " 11  horsepower            116188 non-null  float64\n",
      " 12  is_new                122816 non-null  int64  \n",
      " 13  latitude              122816 non-null  float64\n",
      " 14  length                116916 non-null  float64\n",
      " 15  listing_color         122816 non-null  object \n",
      " 16  longitude             122816 non-null  float64\n",
      " 17  make_name             122816 non-null  object \n",
      " 18  maximum_seating       116941 non-null  object \n",
      " 19  mileage               118014 non-null  float64\n",
      " 20  model_name            122816 non-null  object \n",
      " 21  power                 104421 non-null  object \n",
      " 22  price                 122816 non-null  float64\n",
      " 23  savings_amount        122816 non-null  int64  \n",
      " 24  seller_rating         121199 non-null  float64\n",
      " 25  sp_id                 122814 non-null  float64\n",
      " 26  sp_name               122816 non-null  object \n",
      " 27  torque                103075 non-null  object \n",
      " 28  transmission          119394 non-null  object \n",
      " 29  transmission_display  119394 non-null  object \n",
      " 30  trimId                118291 non-null  object \n",
      " 31  trim_name             118283 non-null  object \n",
      " 32  wheel_system          116923 non-null  object \n",
      " 33  wheel_system_display  116923 non-null  object \n",
      " 34  wheelbase             116941 non-null  object \n",
      " 35  width                 116941 non-null  object \n",
      " 36  year                  122816 non-null  int64  \n",
      "dtypes: float64(15), int64(4), object(18)\n",
      "memory usage: 35.6+ MB\n"
     ]
    }
   ],
   "source": [
    "df.info()"
   ]
  },
  {
   "cell_type": "markdown",
   "id": "1cf0535f-ce8e-4246-930d-80c97da6be27",
   "metadata": {},
   "source": [
    "---\n",
    "#### Initial Ideas/Thoughts about columns:\n",
    "- VIN\n",
    "    - Keep as ID? Or just use pandas ID\n",
    "    - Could use VIN to try to look up vehicle and get more data, but would be beyond scope of this project\n",
    "    - Drop\n",
    "- back_legroom\n",
    "    - Has a lot of data, measurement in inches, but formatted as string, don't think it will be good predictor\n",
    "    - split, convert to float, impute with mean\n",
    "- body-type\n",
    "    - 9 categories\n",
    "    - keep\n",
    "- city\n",
    "    - 7 cities\n",
    "    - keep\n",
    "- city_fuel_economy\n",
    "    - looks like there are some outliers here\n",
    "    - remove outliers and keep\n",
    "- daysonmarket\n",
    "    - Also has outliers (are they?)\n",
    "    - Should I remove these?\n",
    "    - Don't think it will be great predictor\n",
    "    - Keep for now for future feature engineering\n",
    "    - could be another predictor, but you won't have this until after car is sold, therefore could not be used to predict price\n",
    "    - drop\n",
    "- dealer_zip\n",
    "    - 249 values\n",
    "    - use lat and long instead or city\n",
    "    - Drop\n",
    "- description\n",
    "    - long text description\n",
    "    - drop\n",
    "- engine_cylinders\n",
    "    - 31 values\n",
    "    - Maybe simpify just to number of cylinders?\n",
    "    - Drop for now\n",
    "    - With more time, I could pull out different categorical/numerical columns from this one column to add features, too much packed into one column\n",
    "- engine_displacement\n",
    "    - Maybe some outliers\n",
    "    - keep for now\n",
    "- engine_type\n",
    "    - identical data to engine_cylinders\n",
    "    - drop for now\n",
    "- exterior_color\n",
    "    - 4310 values\n",
    "    - Could try to clean this column up but would take time\n",
    "    - drop for now\n",
    "    - listing color is better\n",
    "- franchise_dealer\n",
    "    - no nulls\n",
    "    - bool\n",
    "    - keep for now\n",
    "        - convert to 1 or 0\n",
    "- franchise_make\n",
    "    - 39 values\n",
    "    - The company that owns the franchise (dealership)\n",
    "    - keep for now\n",
    "    - Keep top 6 categories and classify all others as \"other\"\n",
    "    - drop, other column pertains more pertinent info\n",
    "- front_legroom\n",
    "    - Has a lot of data, measurement in inches, but formatted as string, don't think it will be good predictor\n",
    "    - split, convert to float, impute with mean\n",
    "- fuel_tank_volume\n",
    "    - currently string\n",
    "    - format and convert to float\n",
    "    - keep converted version\n",
    "- fuel_type\n",
    "    - 7 categories\n",
    "    - Keep for now\n",
    "    - Maybe narrow down number of categories\n",
    "        - gas or other?\n",
    "- height\n",
    "    - currently string, same process as fuel tank volume\n",
    "    - keep for now\n",
    "    - split, convert to float, impute with mean\n",
    " - highway_fuel_economy\n",
    "     - keep\n",
    "     - maybe remove outliers later\n",
    "- horsepower\n",
    "    - keep\n",
    "    - outliers?\n",
    "- interior_color\n",
    "    - 4471 different colors here\n",
    "    - Could clean up, not for MVP\n",
    "    - drop\n",
    "- is_new\n",
    "    - about 50/50\n",
    "    - whether or not vehicle waslaunched less than 2 years ago\n",
    "    - no nulls\n",
    "    - keep\n",
    "        - convert to 1 or 0\n",
    "- latitude\n",
    "    - keep\n",
    "- length\n",
    "    - same process as height and fuel tank volume\n",
    "    - keep\n",
    "    - split, convert to float, impute with mean\n",
    "- listed_date\n",
    "    - convert to datetime\n",
    "    - Add to days on market to get date sold\n",
    "       - all cars were sold in Sep 2020, must have been filter of data being pulled\n",
    "    - from date sold, create month sold and maybe year sold and add as a new feature\n",
    "        - not useful since all cars sold on some month of same year\n",
    "    - drop both columns used after feature is added\n",
    "    - drop\n",
    "- listing_color\n",
    "    - not very many categories\n",
    "    - keep for now\n",
    "    - maybe group smaller categories into 'Other'\n",
    "- listing_id\n",
    "    - drop\n",
    "- longitude\n",
    "    - keep\n",
    "- main_picture_url\n",
    "    - url of main listing pic\n",
    "    - drop\n",
    "- major_options\n",
    "    - list of customizable options added (upgrades)\n",
    "    - can't leave in current format\n",
    "    - could make new column of length to see how many upgrades each car has\n",
    "    - could also use in syntax to create more features around whether or not the car has a feature (e.g. cruise control, leather seats, etc.)\n",
    "    - stored as string\n",
    "    - drop\n",
    "    - could revisit and see how to convert to list\n",
    "- make_name\n",
    "    - car manufacturer\n",
    "    - 61 different values\n",
    "    - pick top groups and group others as 'Other'\n",
    "    - keep\n",
    "- maximum_seating\n",
    "    - keep\n",
    "    - split, convert to int\n",
    "    - fill with median or mean\n",
    "- mileage\n",
    "    - not sure what is going on with this one\n",
    "    - keep and remove outliers\n",
    "- model_name\n",
    "    - 881 values\n",
    "    - drop for now\n",
    "- power\n",
    "    - combination for hp and rpm\n",
    "    - info is contained in hp column\n",
    "    - with more time could normalize and convert into single continuous variable\n",
    "    - drop for now\n",
    "- price\n",
    "    - target\n",
    "    - drop outliers?\n",
    "- savings_amount\n",
    "    - drop\n",
    "- seller_rating\n",
    "    - drop\n",
    "- sp_id\n",
    "    - drop\n",
    "- sp_name\n",
    "    - drop\n",
    "- torque\n",
    "    - drop\n",
    "    - with more time could normalize and convert into single continuous variable\n",
    "- transmission\n",
    "    - keep\n",
    "- transmission_display\n",
    "    - too many categories\n",
    "    - drop\n",
    "- trimId\n",
    "    - drop\n",
    "- trim_name\n",
    "    - drop\n",
    "- wheel_system\n",
    "    - keep\n",
    "- wheel_system_display\n",
    "    - same info as above\n",
    "    - drop\n",
    "- wheelbase\n",
    "    - same process to pull out number\n",
    "    - keep for now\n",
    "- width\n",
    "    - same process to pull out number\n",
    "    - keep for now\n",
    "- year\n",
    "    - keep\n",
    "    - outliers?"
   ]
  },
  {
   "cell_type": "markdown",
   "id": "aa6aa854-12d1-4e64-af4d-501a11af73f3",
   "metadata": {},
   "source": [
    "---"
   ]
  },
  {
   "cell_type": "markdown",
   "id": "a7f8919b-3e05-496a-ba46-d7b3d34fd76f",
   "metadata": {},
   "source": [
    "#### scratchpad area"
   ]
  },
  {
   "cell_type": "code",
   "execution_count": 708,
   "id": "87270177-f24d-4358-b68f-6172554b4bc1",
   "metadata": {},
   "outputs": [
    {
     "data": {
      "text/plain": [
       "3589      1940\n",
       "121414    1923\n",
       "Name: year, dtype: int64"
      ]
     },
     "execution_count": 708,
     "metadata": {},
     "output_type": "execute_result"
    }
   ],
   "source": [
    "df.year[df.year < 1950]"
   ]
  },
  {
   "cell_type": "markdown",
   "id": "c4353ef0-6a98-4b2b-a76f-0d3814046a31",
   "metadata": {},
   "source": [
    "---\n",
    "### Choose columns to keep/drop\n",
    "---"
   ]
  },
  {
   "cell_type": "code",
   "execution_count": 356,
   "id": "8957453a-80ba-4491-b563-5c240fa4178f",
   "metadata": {},
   "outputs": [],
   "source": [
    "# final list of cols to keep\n",
    "cols_to_keep = [\n",
    "    'body_type',\n",
    "    'city',\n",
    "    'city_fuel_economy',\n",
    "    'daysonmarket',\n",
    "    'engine_displacement',\n",
    "    'franchise_dealer',\n",
    "    'franchise_make',\n",
    "    'fuel_tank_volume',\n",
    "    'fuel_type',\n",
    "    'height',\n",
    "    'highway_fuel_economy',\n",
    "    'horsepower',\n",
    "    'latitude',\n",
    "    'length',\n",
    "    'listing_color',\n",
    "    'longitude',\n",
    "    'make_name',\n",
    "    'maximum_seating',\n",
    "    'mileage',\n",
    "    'transmission',\n",
    "    'wheel_system',\n",
    "    'wheelbase',\n",
    "    'width',\n",
    "    'year'\n",
    "]"
   ]
  },
  {
   "cell_type": "markdown",
   "id": "e62406e1-3185-4d34-a76c-2d340d2362d3",
   "metadata": {},
   "source": [
    "---"
   ]
  },
  {
   "cell_type": "code",
   "execution_count": 771,
   "id": "37fa2f07-65dc-43a5-a138-777dcdf38d4a",
   "metadata": {},
   "outputs": [],
   "source": [
    "df = pd.read_csv('texas_car_data.csv', index_col=0)\n",
    "df = df.reset_index(drop=True) # reset index for this subset of the dataset\n",
    "df = df.drop_duplicates()\n",
    "df = handle_missing_values(df)"
   ]
  },
  {
   "cell_type": "code",
   "execution_count": 772,
   "id": "760221aa-e991-48be-91e4-fdbb532f6909",
   "metadata": {},
   "outputs": [
    {
     "data": {
      "text/plain": [
       "(122816, 50)"
      ]
     },
     "execution_count": 772,
     "metadata": {},
     "output_type": "execute_result"
    }
   ],
   "source": [
    "df.shape"
   ]
  },
  {
   "cell_type": "code",
   "execution_count": 773,
   "id": "b30e1499-c1ef-4342-be19-ea6323dc3a74",
   "metadata": {},
   "outputs": [],
   "source": [
    "# back legroom\n",
    "df.back_legroom = df.back_legroom.str.split(' ', expand=True)[0]\n",
    "df.back_legroom = pd.to_numeric(df.back_legroom, errors='coerce')\n",
    "df.back_legroom = df.back_legroom.fillna(round(df.back_legroom.mean(),2))"
   ]
  },
  {
   "cell_type": "code",
   "execution_count": 774,
   "id": "38d533ca-7f46-4cda-81a6-0ee31adbc104",
   "metadata": {},
   "outputs": [
    {
     "data": {
      "text/plain": [
       "(122816, 50)"
      ]
     },
     "execution_count": 774,
     "metadata": {},
     "output_type": "execute_result"
    }
   ],
   "source": [
    "df.shape"
   ]
  },
  {
   "cell_type": "code",
   "execution_count": 775,
   "id": "b7e9c082-b71c-4b95-a78e-778dc9b05218",
   "metadata": {
    "tags": []
   },
   "outputs": [],
   "source": [
    "# # franchise_make\n",
    "# top_six = ['Ford', 'Chevrolet', 'Toyota', 'Honda', 'Nissan', 'Jeep']\n",
    "\n",
    "# df.franchise_make = df.franchise_make.apply(lambda x: x if x in top_six else 'Other')\n",
    "\n",
    "# # df.franchise_make = np.where(df.franchise_make in top_six, df.franchise_make, 'Other')"
   ]
  },
  {
   "cell_type": "code",
   "execution_count": 776,
   "id": "55d94f99-1cec-47c7-9485-77cdf2747472",
   "metadata": {},
   "outputs": [
    {
     "data": {
      "text/plain": [
       "(122816, 50)"
      ]
     },
     "execution_count": 776,
     "metadata": {},
     "output_type": "execute_result"
    }
   ],
   "source": [
    "df.shape"
   ]
  },
  {
   "cell_type": "code",
   "execution_count": 777,
   "id": "30bc36b8-7413-4ad4-a96f-03690367687b",
   "metadata": {},
   "outputs": [],
   "source": [
    "# front legroom\n",
    "df.front_legroom = df.front_legroom.str.split(' ', expand=True)[0]\n",
    "df.front_legroom = pd.to_numeric(df.front_legroom, errors='coerce')\n",
    "df.front_legroom = df.front_legroom.fillna(round(df.front_legroom.mean(),2))"
   ]
  },
  {
   "cell_type": "code",
   "execution_count": 778,
   "id": "5ab2d8d7-0c39-42e9-a03a-4332b47ed289",
   "metadata": {},
   "outputs": [
    {
     "data": {
      "text/plain": [
       "(122816, 50)"
      ]
     },
     "execution_count": 778,
     "metadata": {},
     "output_type": "execute_result"
    }
   ],
   "source": [
    "df.shape"
   ]
  },
  {
   "cell_type": "code",
   "execution_count": 779,
   "id": "bbbb5fda-ba81-4dc1-9991-2d04c3d4a25b",
   "metadata": {},
   "outputs": [],
   "source": [
    "# franchise_dealer\n",
    "df.franchise_dealer = np.where(df.franchise_dealer == True, 1, 0)"
   ]
  },
  {
   "cell_type": "code",
   "execution_count": 780,
   "id": "8bc4cdc7-fa77-42c9-bc75-3dddac7c1026",
   "metadata": {},
   "outputs": [
    {
     "data": {
      "text/plain": [
       "(122816, 50)"
      ]
     },
     "execution_count": 780,
     "metadata": {},
     "output_type": "execute_result"
    }
   ],
   "source": [
    "df.shape"
   ]
  },
  {
   "cell_type": "code",
   "execution_count": 781,
   "id": "b756b696-c4e1-447c-a1ae-835d487609d4",
   "metadata": {},
   "outputs": [],
   "source": [
    "# fuel_tank_volume\n",
    "df.fuel_tank_volume = df.fuel_tank_volume.str.split(' ', expand=True)[0]\n",
    "df.fuel_tank_volume = pd.to_numeric(df.fuel_tank_volume, errors='coerce')\n",
    "df.fuel_tank_volume = df.fuel_tank_volume.fillna(round(df.fuel_tank_volume.mean(),2))"
   ]
  },
  {
   "cell_type": "code",
   "execution_count": 782,
   "id": "7da3eaa3-5742-44b6-9919-eb9df41fc1a8",
   "metadata": {},
   "outputs": [
    {
     "data": {
      "text/plain": [
       "(122816, 50)"
      ]
     },
     "execution_count": 782,
     "metadata": {},
     "output_type": "execute_result"
    }
   ],
   "source": [
    "df.shape"
   ]
  },
  {
   "cell_type": "code",
   "execution_count": 783,
   "id": "28c05e83-41bd-42c6-afa4-d37f92be7aba",
   "metadata": {},
   "outputs": [],
   "source": [
    "# height\n",
    "df.height = df.height.str.split(' ', expand=True)[0]\n",
    "df.height = pd.to_numeric(df.height, errors='coerce')\n",
    "df.height = df.height.fillna(round(df.height.mean(),2))"
   ]
  },
  {
   "cell_type": "code",
   "execution_count": 784,
   "id": "1378e42d-8b07-4eb6-a3aa-8b6838074baa",
   "metadata": {},
   "outputs": [
    {
     "data": {
      "text/plain": [
       "(122816, 50)"
      ]
     },
     "execution_count": 784,
     "metadata": {},
     "output_type": "execute_result"
    }
   ],
   "source": [
    "df.shape"
   ]
  },
  {
   "cell_type": "code",
   "execution_count": 785,
   "id": "c9398c41-7622-4233-a291-bea2f80d7efa",
   "metadata": {},
   "outputs": [],
   "source": [
    "# is_new\n",
    "df.is_new = np.where(df.is_new == True, 1, 0)"
   ]
  },
  {
   "cell_type": "code",
   "execution_count": 786,
   "id": "aadcd36b-960a-425c-8599-b0fde195c71d",
   "metadata": {},
   "outputs": [
    {
     "data": {
      "text/plain": [
       "(122816, 50)"
      ]
     },
     "execution_count": 786,
     "metadata": {},
     "output_type": "execute_result"
    }
   ],
   "source": [
    "df.shape"
   ]
  },
  {
   "cell_type": "code",
   "execution_count": 787,
   "id": "7188f30b-fc2d-402b-8e14-427fa8cd97ba",
   "metadata": {},
   "outputs": [],
   "source": [
    "# length\n",
    "df.length = df.length.str.split(' ', expand=True)[0]\n",
    "df.length = pd.to_numeric(df.length, errors='coerce')\n",
    "df.length = df.length.fillna(round(df.length.mean(),2))"
   ]
  },
  {
   "cell_type": "code",
   "execution_count": 788,
   "id": "3f3d6604-3702-4cab-9aa9-d126f3fdbf7a",
   "metadata": {},
   "outputs": [
    {
     "data": {
      "text/plain": [
       "(122816, 50)"
      ]
     },
     "execution_count": 788,
     "metadata": {},
     "output_type": "execute_result"
    }
   ],
   "source": [
    "df.shape"
   ]
  },
  {
   "cell_type": "code",
   "execution_count": 789,
   "id": "99e5cf02-5218-49b8-a22d-b7a6ee6690a5",
   "metadata": {},
   "outputs": [],
   "source": [
    "# # create date sold column\n",
    "# df.daysonmarket = pd.to_timedelta(df.daysonmarket, unit='D')\n",
    "# df.listed_date = pd.to_datetime(df.listed_date)\n",
    "# df['date_sold'] = df.listed_date + df.daysonmarket\n",
    "# all sold in same year and same month, so this feature is not helpful"
   ]
  },
  {
   "cell_type": "code",
   "execution_count": 790,
   "id": "88f1a923-3311-4996-be86-cc40d52c8ec5",
   "metadata": {},
   "outputs": [],
   "source": [
    "# make_name\n",
    "top_six = ['Ford', 'Chevrolet', 'Toyota', 'Honda', 'Nissan', 'Jeep']\n",
    "df.make_name = df.make_name.apply(lambda x: x if x in top_six else 'Other')"
   ]
  },
  {
   "cell_type": "code",
   "execution_count": 791,
   "id": "68eeb758-1187-4ff6-9181-fe28655be567",
   "metadata": {},
   "outputs": [
    {
     "data": {
      "text/plain": [
       "(122816, 50)"
      ]
     },
     "execution_count": 791,
     "metadata": {},
     "output_type": "execute_result"
    }
   ],
   "source": [
    "df.shape"
   ]
  },
  {
   "cell_type": "code",
   "execution_count": 792,
   "id": "90cf5b9b-06cc-48d1-889d-bdd753031299",
   "metadata": {},
   "outputs": [],
   "source": [
    "# maximum_seating\n",
    "df.maximum_seating = df.maximum_seating.str.split(' ', expand=True)[0]\n",
    "df.maximum_seating = pd.to_numeric(df.maximum_seating, errors='coerce')\n",
    "df.maximum_seating = df.maximum_seating.fillna(df.maximum_seating.median())"
   ]
  },
  {
   "cell_type": "code",
   "execution_count": 793,
   "id": "45770ee1-549b-410d-9538-0cb2af86a7f4",
   "metadata": {},
   "outputs": [
    {
     "data": {
      "text/plain": [
       "(122816, 50)"
      ]
     },
     "execution_count": 793,
     "metadata": {},
     "output_type": "execute_result"
    }
   ],
   "source": [
    "df.shape"
   ]
  },
  {
   "cell_type": "code",
   "execution_count": 794,
   "id": "5d7f71fe-3979-4fd2-b197-ab7a2dd31665",
   "metadata": {},
   "outputs": [],
   "source": [
    "# wheelbase\n",
    "df.wheelbase = df.wheelbase.str.split(' ', expand=True)[0]\n",
    "df.wheelbase = pd.to_numeric(df.wheelbase, errors='coerce')\n",
    "df.wheelbase = df.wheelbase.fillna(round(df.wheelbase.mean(),2))"
   ]
  },
  {
   "cell_type": "code",
   "execution_count": 795,
   "id": "8ee6d61f-aba2-436a-b6fb-7f8bca045e6d",
   "metadata": {},
   "outputs": [
    {
     "data": {
      "text/plain": [
       "(122816, 50)"
      ]
     },
     "execution_count": 795,
     "metadata": {},
     "output_type": "execute_result"
    }
   ],
   "source": [
    "df.shape"
   ]
  },
  {
   "cell_type": "code",
   "execution_count": 796,
   "id": "424ed19d-77b0-4edc-9aa9-abddff415207",
   "metadata": {},
   "outputs": [],
   "source": [
    "# width\n",
    "df.width = df.width.str.split(' ', expand=True)[0]\n",
    "df.width = pd.to_numeric(df.width, errors='coerce')\n",
    "df.width = df.width.fillna(round(df.width.mean(),2))"
   ]
  },
  {
   "cell_type": "code",
   "execution_count": 797,
   "id": "e28b2890-53ef-4e4d-8747-b26547bd9188",
   "metadata": {},
   "outputs": [
    {
     "data": {
      "text/plain": [
       "(122816, 50)"
      ]
     },
     "execution_count": 797,
     "metadata": {},
     "output_type": "execute_result"
    }
   ],
   "source": [
    "df.shape"
   ]
  },
  {
   "cell_type": "code",
   "execution_count": null,
   "id": "cf1abbbd-a55d-4254-87e1-a929e5a85e20",
   "metadata": {},
   "outputs": [],
   "source": [
    "df.transmission_display.value_counts"
   ]
  },
  {
   "cell_type": "code",
   "execution_count": 760,
   "id": "1fff37eb-0e0b-4636-929a-9d31d658777d",
   "metadata": {},
   "outputs": [],
   "source": [
    "# to drop all at once as I go through if I have to reset df\n",
    "cols_to_drop = [\n",
    "    'vin', \n",
    "    # 'back_legroom',\n",
    "    'dealer_zip',\n",
    "    'description',\n",
    "    'engine_cylinders',\n",
    "    'engine_type',\n",
    "    'exterior_color',\n",
    "    # 'front_legroom',\n",
    "    'interior_color',\n",
    "    'interior_color',\n",
    "    'daysonmarket',\n",
    "    'listed_date',\n",
    "    'listing_id',\n",
    "    'main_picture_url',\n",
    "    'major_options',\n",
    "    'franchise_make',\n",
    "    'model_name',\n",
    "    'power',\n",
    "    'savings_amount',\n",
    "    'seller_rating',\n",
    "    'sp_id',\n",
    "    'sp_name',\n",
    "    'torque',\n",
    "    'transmission_display',\n",
    "    'trimId',\n",
    "    'trim_name',\n",
    "    'wheel_system_display'\n",
    "]\n",
    "\n",
    "# drop all columns above\n",
    "df = df.drop(columns=cols_to_drop)"
   ]
  },
  {
   "cell_type": "code",
   "execution_count": 761,
   "id": "824b4f4b-0c6d-4c9e-914f-7b1edc3adaeb",
   "metadata": {},
   "outputs": [
    {
     "data": {
      "text/plain": [
       "(122816, 26)"
      ]
     },
     "execution_count": 761,
     "metadata": {},
     "output_type": "execute_result"
    }
   ],
   "source": [
    "df.shape"
   ]
  },
  {
   "cell_type": "markdown",
   "id": "ac0b03c4-1c69-46ac-b451-29501ec96048",
   "metadata": {},
   "source": [
    "---"
   ]
  },
  {
   "cell_type": "markdown",
   "id": "12009075-73a6-4a32-b51f-135af4c5c239",
   "metadata": {},
   "source": [
    "#### Numerical "
   ]
  },
  {
   "cell_type": "code",
   "execution_count": 762,
   "id": "8623def5-13d0-40bf-9944-33c4dd9d3baa",
   "metadata": {},
   "outputs": [
    {
     "data": {
      "text/plain": [
       "['back_legroom',\n",
       " 'city_fuel_economy',\n",
       " 'engine_displacement',\n",
       " 'franchise_dealer',\n",
       " 'front_legroom',\n",
       " 'fuel_tank_volume',\n",
       " 'height',\n",
       " 'highway_fuel_economy',\n",
       " 'horsepower',\n",
       " 'is_new',\n",
       " 'latitude',\n",
       " 'length',\n",
       " 'longitude',\n",
       " 'maximum_seating',\n",
       " 'mileage',\n",
       " 'price',\n",
       " 'wheelbase',\n",
       " 'width',\n",
       " 'year']"
      ]
     },
     "execution_count": 762,
     "metadata": {},
     "output_type": "execute_result"
    }
   ],
   "source": [
    "# pull list of numeric columns based on current formatting\n",
    "df.select_dtypes('number').columns.tolist()"
   ]
  },
  {
   "cell_type": "code",
   "execution_count": 763,
   "id": "e8f030ec-ce30-4caf-a369-f80c4d48c823",
   "metadata": {},
   "outputs": [
    {
     "data": {
      "text/plain": [
       "19"
      ]
     },
     "execution_count": 763,
     "metadata": {},
     "output_type": "execute_result"
    }
   ],
   "source": [
    "len(df.select_dtypes('number').columns.tolist())"
   ]
  },
  {
   "cell_type": "code",
   "execution_count": 764,
   "id": "c2618497-6b2f-4f13-92c3-3d11a77b6ebd",
   "metadata": {},
   "outputs": [
    {
     "data": {
      "image/png": "[encoded data removed]",
      "text/plain": [
       "<Figure size 1800x720 with 20 Axes>"
      ]
     },
     "metadata": {
      "needs_background": "light"
     },
     "output_type": "display_data"
    }
   ],
   "source": [
    "# take a look at remaining column distributions\n",
    "# let's take a look at the distributions of the continuous variables\n",
    "fig, axs = plt.subplots(5, 4, sharey=False, figsize=(25, 10))\n",
    "axe = axs.ravel()\n",
    "for i, c in enumerate(df.select_dtypes('number').columns):\n",
    "    df[c].plot.hist(ax=axe[i],title=c, ec='black', bins=20)\n",
    "    plt.tight_layout()"
   ]
  },
  {
   "cell_type": "markdown",
   "id": "074ae7d1-e9ee-4a41-9325-77c151040de6",
   "metadata": {},
   "source": [
    "#### Categorical "
   ]
  },
  {
   "cell_type": "code",
   "execution_count": 765,
   "id": "f3fa7633-ded0-405a-88e3-91ccf1e7a754",
   "metadata": {},
   "outputs": [
    {
     "data": {
      "text/plain": [
       "7"
      ]
     },
     "execution_count": 765,
     "metadata": {},
     "output_type": "execute_result"
    }
   ],
   "source": [
    "len(df.select_dtypes('object').columns.tolist())"
   ]
  },
  {
   "cell_type": "code",
   "execution_count": 766,
   "id": "e68f8427-ff0e-44eb-8239-fda4cbc5f946",
   "metadata": {},
   "outputs": [],
   "source": [
    "cat_cols = df.select_dtypes('object').columns.tolist()"
   ]
  },
  {
   "cell_type": "code",
   "execution_count": 767,
   "id": "e078afce-013c-4c82-8624-200b17eb8275",
   "metadata": {},
   "outputs": [
    {
     "name": "stdout",
     "output_type": "stream",
     "text": [
      "body_type\n",
      "-----------------\n",
      "SUV / Crossover    0.459508\n",
      "Sedan              0.264546\n",
      "Pickup Truck       0.162026\n",
      "Coupe              0.030624\n",
      "Hatchback          0.027861\n",
      "Minivan            0.024527\n",
      "Van                0.010968\n",
      "Wagon              0.010845\n",
      "Convertible        0.009096\n",
      "Name: body_type, dtype: float64\n",
      "-----------------\n",
      "city\n",
      "-----------------\n",
      "Houston        0.356289\n",
      "San Antonio    0.203101\n",
      "Dallas         0.119211\n",
      "Austin         0.115783\n",
      "El Paso        0.079126\n",
      "Arlington      0.069616\n",
      "Fort Worth     0.056874\n",
      "Name: city, dtype: float64\n",
      "-----------------\n",
      "fuel_type\n",
      "-----------------\n",
      "Gasoline                  0.896035\n",
      "Flex Fuel Vehicle         0.051677\n",
      "Hybrid                    0.023830\n",
      "Diesel                    0.015663\n",
      "Biodiesel                 0.008838\n",
      "Electric                  0.003916\n",
      "Compressed Natural Gas    0.000042\n",
      "Name: fuel_type, dtype: float64\n",
      "-----------------\n",
      "listing_color\n",
      "-----------------\n",
      "WHITE      0.220378\n",
      "BLACK      0.199583\n",
      "UNKNOWN    0.139282\n",
      "SILVER     0.130423\n",
      "GRAY       0.129210\n",
      "RED        0.079363\n",
      "BLUE       0.076578\n",
      "BROWN      0.008924\n",
      "GREEN      0.006359\n",
      "GOLD       0.003469\n",
      "ORANGE     0.003216\n",
      "YELLOW     0.001571\n",
      "TEAL       0.001140\n",
      "PURPLE     0.000464\n",
      "PINK       0.000041\n",
      "Name: listing_color, dtype: float64\n",
      "-----------------\n",
      "make_name\n",
      "-----------------\n",
      "Other        0.478553\n",
      "Ford         0.137604\n",
      "Chevrolet    0.107063\n",
      "Toyota       0.085420\n",
      "Nissan       0.076236\n",
      "Honda        0.071041\n",
      "Jeep         0.044082\n",
      "Name: make_name, dtype: float64\n",
      "-----------------\n",
      "transmission\n",
      "-----------------\n",
      "A              0.840712\n",
      "CVT            0.137042\n",
      "M              0.017882\n",
      "Dual Clutch    0.004364\n",
      "Name: transmission, dtype: float64\n",
      "-----------------\n",
      "wheel_system\n",
      "-----------------\n",
      "FWD    0.547377\n",
      "AWD    0.124569\n",
      "4WD    0.123791\n",
      "RWD    0.109311\n",
      "4X2    0.094951\n",
      "Name: wheel_system, dtype: float64\n",
      "-----------------\n"
     ]
    }
   ],
   "source": [
    "for cat in cat_cols:\n",
    "    print(cat)\n",
    "    print('-----------------')\n",
    "    print(df[cat].value_counts(normalize=True))\n",
    "    print('-----------------')\n"
   ]
  },
  {
   "cell_type": "markdown",
   "id": "181b32dd-2efa-40d7-861a-87a5ebf8e6d6",
   "metadata": {},
   "source": [
    "---\n",
    "#### Bool \n",
    "---"
   ]
  },
  {
   "cell_type": "code",
   "execution_count": 768,
   "id": "84791bd1-41d4-4cc8-bf6c-16fa13d72bfc",
   "metadata": {},
   "outputs": [
    {
     "data": {
      "text/plain": [
       "0"
      ]
     },
     "execution_count": 768,
     "metadata": {},
     "output_type": "execute_result"
    }
   ],
   "source": [
    "len(df.select_dtypes('bool').columns.tolist())"
   ]
  },
  {
   "cell_type": "code",
   "execution_count": 769,
   "id": "c6c4d031-2ea8-4333-8236-293f99561f06",
   "metadata": {},
   "outputs": [],
   "source": [
    "bool_cols = df.select_dtypes('bool').columns.tolist()"
   ]
  },
  {
   "cell_type": "code",
   "execution_count": 770,
   "id": "eeab064f-05c6-41ee-80b8-4eb4eb5549de",
   "metadata": {},
   "outputs": [],
   "source": [
    "for col in bool_cols:\n",
    "    print(col)\n",
    "    print('-----------------')\n",
    "    print(df[col].value_counts(normalize=True))\n",
    "    print('-----------------')"
   ]
  }
 ],
 "metadata": {
  "kernelspec": {
   "display_name": "Python 3",
   "language": "python",
   "name": "python3"
  },
  "language_info": {
   "codemirror_mode": {
    "name": "ipython",
    "version": 3
   },
   "file_extension": ".py",
   "mimetype": "text/x-python",
   "name": "python",
   "nbconvert_exporter": "python",
   "pygments_lexer": "ipython3",
   "version": "3.8.8"
  }
 },
 "nbformat": 4,
 "nbformat_minor": 5
}
